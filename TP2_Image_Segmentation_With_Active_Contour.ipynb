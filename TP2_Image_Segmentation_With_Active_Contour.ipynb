{
 "cells": [
  {
   "cell_type": "markdown",
   "id": "a11453a1",
   "metadata": {},
   "source": [
    "# Part 1: Image Segmentation With Active Contour"
   ]
  },
  {
   "cell_type": "markdown",
   "id": "1f48c776",
   "metadata": {},
   "source": [
    "1) Program the greedy implementation of the Active Contour algorithm, as described here\n",
    "\n",
    "start with an implementation of step 1 only, and then add step 2.\n",
    "\n",
    "For more explanation on corners and curvature: You can also read the paper: A fast algorithm for active contours and curvature estimation"
   ]
  },
  {
   "cell_type": "code",
   "execution_count": null,
   "id": "1cbf1759",
   "metadata": {},
   "outputs": [],
   "source": []
  },
  {
   "cell_type": "markdown",
   "id": "25c9dc1e",
   "metadata": {},
   "source": [
    "2) Test on synthetic images first, and then on medical images. \n",
    "\n",
    "Medical images: tumor in PET images, right ventricle in cardiac MRI, dermoscopic lesion in skin photo\n",
    "\n",
    "The medical images are the property of their owner. Please do not share or disclose any image data, for any purpose other than this practical lab in this class. Do not pass any data on to a third party."
   ]
  },
  {
   "cell_type": "code",
   "execution_count": null,
   "id": "47984201",
   "metadata": {},
   "outputs": [],
   "source": []
  },
  {
   "cell_type": "markdown",
   "id": "ea7e1de4",
   "metadata": {},
   "source": [
    "3) Compute evaluation metrics: the Dice score and Hausdorf distance for the medical images.\n",
    "\n",
    "In order to compute contour overlap, you'll need to create a binary mask from the set of contour points. For this, you can use functions that create mask from polygon: for example the contains_points function from matplotlib.pathmodule."
   ]
  },
  {
   "cell_type": "code",
   "execution_count": null,
   "id": "11d654a9",
   "metadata": {},
   "outputs": [],
   "source": []
  },
  {
   "cell_type": "markdown",
   "id": "ba08e97d",
   "metadata": {},
   "source": [
    "1) Program the greedy implementation of the Active Contour algorithm, as described here\n",
    "\n",
    "start with an implementation of step 1 only, and then add step 2.\n",
    "\n",
    "For more explanation on corners and curvature: You can also read the paper: A fast algorithm for active contours and curvature estimation\n",
    "\n",
    "2) Test on synthetic images first, and then on medical images. \n",
    "\n",
    "Medical images: tumor in PET images, right ventricle in cardiac MRI, dermoscopic lesion in skin photo\n",
    "\n",
    "The medical images are the property of their owner. Please do not share or disclose any image data, for any purpose other than this practical lab in this class. Do not pass any data on to a third party.\n",
    "\n",
    "3) Compute evaluation metrics: the Dice score and Hausdorf distance for the medical images.\n",
    "\n",
    "In order to compute contour overlap, you'll need to create a binary mask from the set of contour points. For this, you can use functions that create mask from polygon: for example the contains_points function from matplotlib.pathmodule.\n",
    "\n",
    "4) Comment on the effects of the parameters α, β, λ on the results, and on the influence of the initial position of the contour on the results.\n",
    "\n",
    "*Note: your are invited to experiment or test any other point that you find interesting: sampling (number of points) of the contour, other energy type, computation time, test on other images (multiple objects), etc.*"
   ]
  },
  {
   "cell_type": "code",
   "execution_count": null,
   "id": "440557d4",
   "metadata": {},
   "outputs": [],
   "source": []
  },
  {
   "cell_type": "markdown",
   "id": "4243e416",
   "metadata": {},
   "source": [
    "**Source : I. Eden, EN161 Image Understanding, Assignment 8 : Active Contours, Brown University, 2005.**\n",
    "\n",
    "**Image source: CHU Rouen, Centre H Becquerel, International Skin Imaging Collaboration (ISIC)**"
   ]
  }
 ],
 "metadata": {
  "kernelspec": {
   "display_name": "Python 3 (ipykernel)",
   "language": "python",
   "name": "python3"
  },
  "language_info": {
   "codemirror_mode": {
    "name": "ipython",
    "version": 3
   },
   "file_extension": ".py",
   "mimetype": "text/x-python",
   "name": "python",
   "nbconvert_exporter": "python",
   "pygments_lexer": "ipython3",
   "version": "3.12.3"
  }
 },
 "nbformat": 4,
 "nbformat_minor": 5
}
